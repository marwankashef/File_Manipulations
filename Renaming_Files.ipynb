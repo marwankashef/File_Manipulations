{
  "nbformat": 4,
  "nbformat_minor": 0,
  "metadata": {
    "kernelspec": {
      "display_name": "Python 3",
      "language": "python",
      "name": "python3"
    },
    "language_info": {
      "codemirror_mode": {
        "name": "ipython",
        "version": 3
      },
      "file_extension": ".py",
      "mimetype": "text/x-python",
      "name": "python",
      "nbconvert_exporter": "python",
      "pygments_lexer": "ipython3",
      "version": "3.7.4"
    },
    "colab": {
      "name": "Renaming Files.ipynb",
      "provenance": [],
      "include_colab_link": true
    }
  },
  "cells": [
    {
      "cell_type": "markdown",
      "metadata": {
        "id": "view-in-github",
        "colab_type": "text"
      },
      "source": [
        "<a href=\"https://colab.research.google.com/github/marwankashef/File_Manipulations/blob/master/Renaming_Files.ipynb\" target=\"_parent\"><img src=\"https://colab.research.google.com/assets/colab-badge.svg\" alt=\"Open In Colab\"/></a>"
      ]
    },
    {
      "cell_type": "code",
      "metadata": {
        "id": "ZiwL_w2Z9Zlq",
        "colab_type": "code",
        "colab": {}
      },
      "source": [
        "import pandas as pd\n",
        "import os\n",
        "import shutil\n",
        "from os import path"
      ],
      "execution_count": 0,
      "outputs": []
    },
    {
      "cell_type": "code",
      "metadata": {
        "scrolled": true,
        "id": "nRpQW9zi9Zlz",
        "colab_type": "code",
        "colab": {},
        "outputId": "7c9e01a5-b431-432b-bbc3-23701c57d2c0"
      },
      "source": [
        "mainlogo = os.chdir(r\"/Users/marwankashef/Dropbox/Marwan/MMAI/MMAI 894/Group Project/Similarity\")\n",
        "mainfolders = os.listdir(mainlogo)\n",
        "\n",
        "mainfolders"
      ],
      "execution_count": 0,
      "outputs": [
        {
          "output_type": "execute_result",
          "data": {
            "text/plain": [
              "['Porsche',\n",
              " 'Mitsubishi',\n",
              " 'Renault',\n",
              " '.DS_Store',\n",
              " 'Jeep',\n",
              " 'Mazda',\n",
              " 'Bentley',\n",
              " 'Lamborghini',\n",
              " 'Tesla',\n",
              " 'Hyundai',\n",
              " 'Kia',\n",
              " 'Chevrolet',\n",
              " 'Dacia',\n",
              " 'Infiniti',\n",
              " 'Cadillac',\n",
              " 'Nissan',\n",
              " 'Dodge',\n",
              " 'Acura',\n",
              " 'Audi',\n",
              " 'Peugeot',\n",
              " 'Dunlop',\n",
              " 'Mustang',\n",
              " 'Alfa Romeo',\n",
              " 'Aston Martin',\n",
              " 'skoda',\n",
              " 'Maserati',\n",
              " 'Jaguar',\n",
              " 'BMW',\n",
              " 'Mercedes-Benz',\n",
              " 'Citroen',\n",
              " 'Honda']"
            ]
          },
          "metadata": {
            "tags": []
          },
          "execution_count": 46
        }
      ]
    },
    {
      "cell_type": "code",
      "metadata": {
        "id": "DQvks1yH9Zl5",
        "colab_type": "code",
        "colab": {}
      },
      "source": [
        "new_file_names = ['Porsche',\n",
        " 'Mitsubishi',\n",
        " 'Renault',\n",
        " 'Jeep',\n",
        " 'Mazda',\n",
        " 'Bentley',\n",
        " 'Lamborghini',\n",
        " 'Tesla',\n",
        " 'Hyundai',\n",
        " 'Kia',\n",
        " 'Chevrolet',\n",
        " 'Dacia',\n",
        " 'Infiniti',\n",
        " 'Cadillac',\n",
        " 'Nissan',\n",
        " 'Dodge',\n",
        " 'Acura',\n",
        " 'Audi',\n",
        " 'Peugeot',\n",
        " 'Dunlop',\n",
        " 'Mustang',\n",
        " 'Alfa Romeo',\n",
        " 'Aston Martin',\n",
        " 'skoda',\n",
        " 'Maserati',\n",
        " 'Jaguar',\n",
        " 'BMW',\n",
        " 'Mercedes-Benz',\n",
        " 'Citroen',\n",
        " 'Honda']"
      ],
      "execution_count": 0,
      "outputs": []
    },
    {
      "cell_type": "code",
      "metadata": {
        "id": "3hJyrXBI9Zl-",
        "colab_type": "code",
        "colab": {},
        "outputId": "bbb59f12-3a59-4eb7-9f81-95eeeaba14e9"
      },
      "source": [
        "mainfolders[0]"
      ],
      "execution_count": 0,
      "outputs": [
        {
          "output_type": "execute_result",
          "data": {
            "text/plain": [
              "'Porsche'"
            ]
          },
          "metadata": {
            "tags": []
          },
          "execution_count": 48
        }
      ]
    },
    {
      "cell_type": "code",
      "metadata": {
        "id": "3G4tG9YT9ZmD",
        "colab_type": "code",
        "colab": {}
      },
      "source": [
        "for folder in new_file_names:\n",
        "    path =  r\"/Users/marwankashef/Dropbox/Marwan/MMAI/MMAI 894/Group Project/Cleaned Images/Transportation/\"+str(folder)\n",
        "    i = 0\n",
        "    for filename in os.listdir(path):\n",
        "        os.rename(os.path.join(path,filename), os.path.join(path, str(folder)+'_'+str(i)+'.jpg'))\n",
        "        i = i + 1"
      ],
      "execution_count": 0,
      "outputs": []
    },
    {
      "cell_type": "code",
      "metadata": {
        "id": "BYQq6Lrs9ZmG",
        "colab_type": "code",
        "colab": {}
      },
      "source": [
        ""
      ],
      "execution_count": 0,
      "outputs": []
    },
    {
      "cell_type": "code",
      "metadata": {
        "id": "lwI3dz8J9ZmL",
        "colab_type": "code",
        "colab": {}
      },
      "source": [
        ""
      ],
      "execution_count": 0,
      "outputs": []
    }
  ]
}